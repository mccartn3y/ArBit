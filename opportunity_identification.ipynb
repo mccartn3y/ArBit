{
 "cells": [
  {
   "cell_type": "markdown",
   "metadata": {},
   "source": [
    "# Task: Read in exchange details and identify arbitrage opportunities"
   ]
  },
  {
   "cell_type": "code",
   "execution_count": 1,
   "metadata": {},
   "outputs": [],
   "source": [
    "import pandas as pd\n",
    "import numpy as np\n",
    "import os\n",
    "\n",
    "exs = pd.read_csv('exchanges.csv', index_col=0)\n",
    "\n"
   ]
  },
  {
   "cell_type": "code",
   "execution_count": 2,
   "metadata": {},
   "outputs": [],
   "source": [
    "from exchanges import GDAX, Bitstamp"
   ]
  },
  {
   "cell_type": "code",
   "execution_count": 3,
   "metadata": {},
   "outputs": [
    {
     "name": "stdout",
     "output_type": "stream",
     "text": [
      "             bid     ask\n",
      "BitStamp  603.61  605.98\n",
      "GDAX      642.98  642.99\n"
     ]
    }
   ],
   "source": [
    "cwd = os.getcwd()\n",
    "api_pass = open(os.path.join(cwd, '..', 'pw/GDAX_passphrase.txt')).read()\n",
    "api_secret = open(os.path.join(cwd, '..', 'pw/GDAX_API_secret.txt')).read()\n",
    "api_key = open(os.path.join(cwd, '..', 'pw/GDAX_API_key.txt')).read()\n",
    "price_dict = {}\n",
    "G = GDAX.CoinbaseManager(api_key, api_secret, api_pass)\n",
    "price_dict['GDAX'] = G.get_prices()\n",
    "b = Bitstamp.BitstampManager()\n",
    "price_dict['BitStamp'] = b.get_prices()\n",
    "price_df = pd.DataFrame.from_dict(price_dict, orient='index')\n",
    "print(price_df)"
   ]
  },
  {
   "cell_type": "code",
   "execution_count": 4,
   "metadata": {},
   "outputs": [
    {
     "name": "stdout",
     "output_type": "stream",
     "text": [
      "         Location  Pay in  Pay out  Transaction  API  Public API Key  \\\n",
      "Exchange                                                               \n",
      "GDAX         Cali       0     0.15       0.0000    1             NaN   \n",
      "BitStamp      Lux       0     0.90       0.0025    1             NaN   \n",
      "Kracken       NaN       0     0.09       0.0016    1             NaN   \n",
      "cex.io        NaN       0     3.50       0.0016    1             NaN   \n",
      "Bitbay        NaN       0     1.50       0.0030    1             NaN   \n",
      "Poloniex      NaN       0     0.00       0.0025    1             NaN   \n",
      "Coinmam       NaN       0      NaN       0.0000    1             NaN   \n",
      "\n",
      "                       URL                         Comments     bid     ask  \n",
      "Exchange                                                                     \n",
      "GDAX          www.gdax.com                              NaN  642.98  642.99  \n",
      "BitStamp  www.bitstamp.net                              NaN  603.61  605.98  \n",
      "Kracken     www.kraken.com                              NaN     NaN     NaN  \n",
      "cex.io          www.cex.io  Deposit SEPA, withdraw via VISA     NaN     NaN  \n",
      "Bitbay      www.bitbay.net                              NaN     NaN     NaN  \n",
      "Poloniex  www.poloniex.com                              NaN     NaN     NaN  \n",
      "Coinmam   www.coinmama.com                 EUR->crypto only     NaN     NaN  \n"
     ]
    }
   ],
   "source": [
    "exs[['bid', 'ask']] = price_df[['bid', 'ask']]\n",
    "print(exs)"
   ]
  },
  {
   "cell_type": "code",
   "execution_count": 5,
   "metadata": {},
   "outputs": [
    {
     "name": "stdout",
     "output_type": "stream",
     "text": [
      "<class 'pandas.core.frame.DataFrame'>\n",
      "Index: 7 entries, GDAX to Coinmam\n",
      "Data columns (total 5 columns):\n",
      "Pay in         7 non-null int64\n",
      "Pay out        6 non-null float64\n",
      "Transaction    7 non-null float64\n",
      "bid            2 non-null float64\n",
      "ask            2 non-null float64\n",
      "dtypes: float64(4), int64(1)\n",
      "memory usage: 336.0+ bytes\n",
      "          Pay in  Pay out  Transaction     bid     ask\n",
      "Exchange                                              \n",
      "GDAX           0     0.15       0.0000  642.98  642.99\n",
      "BitStamp       0     0.90       0.0025  603.61  605.98\n",
      "Kracken        0     0.09       0.0016     NaN     NaN\n",
      "cex.io         0     3.50       0.0016     NaN     NaN\n",
      "Bitbay         0     1.50       0.0030     NaN     NaN\n",
      "Poloniex       0     0.00       0.0025     NaN     NaN\n",
      "Coinmam        0      NaN       0.0000     NaN     NaN\n"
     ]
    },
    {
     "name": "stderr",
     "output_type": "stream",
     "text": [
      "C:\\Users\\Michael\\Anaconda3\\lib\\site-packages\\ipykernel_launcher.py:2: SettingWithCopyWarning: \n",
      "A value is trying to be set on a copy of a slice from a DataFrame.\n",
      "Try using .loc[row_indexer,col_indexer] = value instead\n",
      "\n",
      "See the caveats in the documentation: http://pandas.pydata.org/pandas-docs/stable/indexing.html#indexing-view-versus-copy\n",
      "  \n",
      "C:\\Users\\Michael\\Anaconda3\\lib\\site-packages\\ipykernel_launcher.py:3: SettingWithCopyWarning: \n",
      "A value is trying to be set on a copy of a slice from a DataFrame.\n",
      "Try using .loc[row_indexer,col_indexer] = value instead\n",
      "\n",
      "See the caveats in the documentation: http://pandas.pydata.org/pandas-docs/stable/indexing.html#indexing-view-versus-copy\n",
      "  This is separate from the ipykernel package so we can avoid doing imports until\n"
     ]
    }
   ],
   "source": [
    "df = exs[['Pay in', 'Pay out', 'Transaction']]\n",
    "df['bid'] = pd.to_numeric(exs.bid, errors='coerce')\n",
    "df['ask'] = pd.to_numeric(exs.ask, errors='coerce')\n",
    "df.info()\n",
    "print(df)"
   ]
  },
  {
   "cell_type": "code",
   "execution_count": 6,
   "metadata": {},
   "outputs": [
    {
     "name": "stderr",
     "output_type": "stream",
     "text": [
      "C:\\Users\\Michael\\Anaconda3\\lib\\site-packages\\ipykernel_launcher.py:1: SettingWithCopyWarning: \n",
      "A value is trying to be set on a copy of a slice from a DataFrame.\n",
      "Try using .loc[row_indexer,col_indexer] = value instead\n",
      "\n",
      "See the caveats in the documentation: http://pandas.pydata.org/pandas-docs/stable/indexing.html#indexing-view-versus-copy\n",
      "  \"\"\"Entry point for launching an IPython kernel.\n"
     ]
    },
    {
     "name": "stdout",
     "output_type": "stream",
     "text": [
      "          Pay in  Pay out  Transaction     bid     ask  100EUR->ETH Out Ex  \\\n",
      "Exchange                                                                     \n",
      "GDAX           0     0.15       0.0000  642.98  642.99     0.155526    N/A   \n",
      "BitStamp       0     0.90       0.0025  603.61  605.98     0.164612    N/A   \n",
      "Kracken        0     0.09       0.0016     NaN     NaN          NaN    N/A   \n",
      "cex.io         0     3.50       0.0016     NaN     NaN          NaN    N/A   \n",
      "Bitbay         0     1.50       0.0030     NaN     NaN          NaN    N/A   \n",
      "Poloniex       0     0.00       0.0025     NaN     NaN          NaN    N/A   \n",
      "Coinmam        0      NaN       0.0000     NaN     NaN          NaN    N/A   \n",
      "\n",
      "          ETH->EUR  \n",
      "Exchange            \n",
      "GDAX           NaN  \n",
      "BitStamp       NaN  \n",
      "Kracken        NaN  \n",
      "cex.io         NaN  \n",
      "Bitbay         NaN  \n",
      "Poloniex       NaN  \n",
      "Coinmam        NaN  \n"
     ]
    },
    {
     "name": "stderr",
     "output_type": "stream",
     "text": [
      "C:\\Users\\Michael\\Anaconda3\\lib\\site-packages\\ipykernel_launcher.py:2: SettingWithCopyWarning: \n",
      "A value is trying to be set on a copy of a slice from a DataFrame.\n",
      "Try using .loc[row_indexer,col_indexer] = value instead\n",
      "\n",
      "See the caveats in the documentation: http://pandas.pydata.org/pandas-docs/stable/indexing.html#indexing-view-versus-copy\n",
      "  \n",
      "C:\\Users\\Michael\\Anaconda3\\lib\\site-packages\\ipykernel_launcher.py:3: SettingWithCopyWarning: \n",
      "A value is trying to be set on a copy of a slice from a DataFrame.\n",
      "Try using .loc[row_indexer,col_indexer] = value instead\n",
      "\n",
      "See the caveats in the documentation: http://pandas.pydata.org/pandas-docs/stable/indexing.html#indexing-view-versus-copy\n",
      "  This is separate from the ipykernel package so we can avoid doing imports until\n"
     ]
    }
   ],
   "source": [
    "df['100EUR->ETH'] = ((100 - df['Pay in'] ) * (1-df['Transaction'])) / (df['ask']-0.01)\n",
    "df['Out Ex'] = 'N/A'\n",
    "df['ETH->EUR'] = np.nan\n",
    "print(df)"
   ]
  },
  {
   "cell_type": "code",
   "execution_count": 7,
   "metadata": {},
   "outputs": [
    {
     "name": "stdout",
     "output_type": "stream",
     "text": [
      "0.155525832841\n",
      "-----\n",
      "          Pay in  Pay out  Transaction     bid     ask  100EUR->ETH Out Ex  \\\n",
      "Exchange                                                                     \n",
      "GDAX           0     0.15       0.0000  642.98  642.99     0.155526   GDAX   \n",
      "BitStamp       0     0.90       0.0025  603.61  605.98     0.164612   GDAX   \n",
      "Kracken        0     0.09       0.0016     NaN     NaN          NaN   GDAX   \n",
      "cex.io         0     3.50       0.0016     NaN     NaN          NaN   GDAX   \n",
      "Bitbay         0     1.50       0.0030     NaN     NaN          NaN   GDAX   \n",
      "Poloniex       0     0.00       0.0025     NaN     NaN          NaN   GDAX   \n",
      "Coinmam        0      NaN       0.0000     NaN     NaN          NaN   GDAX   \n",
      "\n",
      "          ETH->EUR  \n",
      "Exchange            \n",
      "GDAX           NaN  \n",
      "BitStamp       NaN  \n",
      "Kracken        NaN  \n",
      "cex.io         NaN  \n",
      "Bitbay         NaN  \n",
      "Poloniex       NaN  \n",
      "Coinmam        NaN  \n",
      "0.16461210951\n",
      "-----\n",
      "          Pay in  Pay out  Transaction     bid     ask  100EUR->ETH    Out Ex  \\\n",
      "Exchange                                                                        \n",
      "GDAX           0     0.15       0.0000  642.98  642.99     0.155526  BitStamp   \n",
      "BitStamp       0     0.90       0.0025  603.61  605.98     0.164612  BitStamp   \n",
      "Kracken        0     0.09       0.0016     NaN     NaN          NaN  BitStamp   \n",
      "cex.io         0     3.50       0.0016     NaN     NaN          NaN  BitStamp   \n",
      "Bitbay         0     1.50       0.0030     NaN     NaN          NaN  BitStamp   \n",
      "Poloniex       0     0.00       0.0025     NaN     NaN          NaN  BitStamp   \n",
      "Coinmam        0      NaN       0.0000     NaN     NaN          NaN  BitStamp   \n",
      "\n",
      "          ETH->EUR  \n",
      "Exchange            \n",
      "GDAX           NaN  \n",
      "BitStamp       NaN  \n",
      "Kracken        NaN  \n",
      "cex.io         NaN  \n",
      "Bitbay         NaN  \n",
      "Poloniex       NaN  \n",
      "Coinmam        NaN  \n",
      "nan\n",
      "-----\n",
      "          Pay in  Pay out  Transaction     bid     ask  100EUR->ETH   Out Ex  \\\n",
      "Exchange                                                                       \n",
      "GDAX           0     0.15       0.0000  642.98  642.99     0.155526  Kracken   \n",
      "BitStamp       0     0.90       0.0025  603.61  605.98     0.164612  Kracken   \n",
      "Kracken        0     0.09       0.0016     NaN     NaN          NaN  Kracken   \n",
      "cex.io         0     3.50       0.0016     NaN     NaN          NaN  Kracken   \n",
      "Bitbay         0     1.50       0.0030     NaN     NaN          NaN  Kracken   \n",
      "Poloniex       0     0.00       0.0025     NaN     NaN          NaN  Kracken   \n",
      "Coinmam        0      NaN       0.0000     NaN     NaN          NaN  Kracken   \n",
      "\n",
      "          ETH->EUR  \n",
      "Exchange            \n",
      "GDAX           NaN  \n",
      "BitStamp       NaN  \n",
      "Kracken        NaN  \n",
      "cex.io         NaN  \n",
      "Bitbay         NaN  \n",
      "Poloniex       NaN  \n",
      "Coinmam        NaN  \n",
      "nan\n",
      "-----\n",
      "          Pay in  Pay out  Transaction     bid     ask  100EUR->ETH  Out Ex  \\\n",
      "Exchange                                                                      \n",
      "GDAX           0     0.15       0.0000  642.98  642.99     0.155526  cex.io   \n",
      "BitStamp       0     0.90       0.0025  603.61  605.98     0.164612  cex.io   \n",
      "Kracken        0     0.09       0.0016     NaN     NaN          NaN  cex.io   \n",
      "cex.io         0     3.50       0.0016     NaN     NaN          NaN  cex.io   \n",
      "Bitbay         0     1.50       0.0030     NaN     NaN          NaN  cex.io   \n",
      "Poloniex       0     0.00       0.0025     NaN     NaN          NaN  cex.io   \n",
      "Coinmam        0      NaN       0.0000     NaN     NaN          NaN  cex.io   \n",
      "\n",
      "          ETH->EUR  \n",
      "Exchange            \n",
      "GDAX           NaN  \n",
      "BitStamp       NaN  \n",
      "Kracken        NaN  \n",
      "cex.io         NaN  \n",
      "Bitbay         NaN  \n",
      "Poloniex       NaN  \n",
      "Coinmam        NaN  \n",
      "nan\n",
      "-----\n",
      "          Pay in  Pay out  Transaction     bid     ask  100EUR->ETH  Out Ex  \\\n",
      "Exchange                                                                      \n",
      "GDAX           0     0.15       0.0000  642.98  642.99     0.155526  Bitbay   \n",
      "BitStamp       0     0.90       0.0025  603.61  605.98     0.164612  Bitbay   \n",
      "Kracken        0     0.09       0.0016     NaN     NaN          NaN  Bitbay   \n",
      "cex.io         0     3.50       0.0016     NaN     NaN          NaN  Bitbay   \n",
      "Bitbay         0     1.50       0.0030     NaN     NaN          NaN  Bitbay   \n",
      "Poloniex       0     0.00       0.0025     NaN     NaN          NaN  Bitbay   \n",
      "Coinmam        0      NaN       0.0000     NaN     NaN          NaN  Bitbay   \n",
      "\n",
      "          ETH->EUR  \n",
      "Exchange            \n",
      "GDAX           NaN  \n",
      "BitStamp       NaN  \n",
      "Kracken        NaN  \n",
      "cex.io         NaN  \n",
      "Bitbay         NaN  \n",
      "Poloniex       NaN  \n",
      "Coinmam        NaN  \n",
      "nan\n",
      "-----\n",
      "          Pay in  Pay out  Transaction     bid     ask  100EUR->ETH    Out Ex  \\\n",
      "Exchange                                                                        \n",
      "GDAX           0     0.15       0.0000  642.98  642.99     0.155526  Poloniex   \n",
      "BitStamp       0     0.90       0.0025  603.61  605.98     0.164612  Poloniex   \n",
      "Kracken        0     0.09       0.0016     NaN     NaN          NaN  Poloniex   \n",
      "cex.io         0     3.50       0.0016     NaN     NaN          NaN  Poloniex   \n",
      "Bitbay         0     1.50       0.0030     NaN     NaN          NaN  Poloniex   \n",
      "Poloniex       0     0.00       0.0025     NaN     NaN          NaN  Poloniex   \n",
      "Coinmam        0      NaN       0.0000     NaN     NaN          NaN  Poloniex   \n",
      "\n",
      "          ETH->EUR  \n",
      "Exchange            \n",
      "GDAX           NaN  \n",
      "BitStamp       NaN  \n",
      "Kracken        NaN  \n",
      "cex.io         NaN  \n",
      "Bitbay         NaN  \n",
      "Poloniex       NaN  \n",
      "Coinmam        NaN  \n",
      "nan\n",
      "-----\n",
      "          Pay in  Pay out  Transaction     bid     ask  100EUR->ETH   Out Ex  \\\n",
      "Exchange                                                                       \n",
      "GDAX           0     0.15       0.0000  642.98  642.99     0.155526  Coinmam   \n",
      "BitStamp       0     0.90       0.0025  603.61  605.98     0.164612  Coinmam   \n",
      "Kracken        0     0.09       0.0016     NaN     NaN          NaN  Coinmam   \n",
      "cex.io         0     3.50       0.0016     NaN     NaN          NaN  Coinmam   \n",
      "Bitbay         0     1.50       0.0030     NaN     NaN          NaN  Coinmam   \n",
      "Poloniex       0     0.00       0.0025     NaN     NaN          NaN  Coinmam   \n",
      "Coinmam        0      NaN       0.0000     NaN     NaN          NaN  Coinmam   \n",
      "\n",
      "          ETH->EUR  \n",
      "Exchange            \n",
      "GDAX           NaN  \n",
      "BitStamp       NaN  \n",
      "Kracken        NaN  \n",
      "cex.io         NaN  \n",
      "Bitbay         NaN  \n",
      "Poloniex       NaN  \n",
      "Coinmam        NaN  \n",
      "<class 'pandas.core.frame.DataFrame'>\n",
      "Index: 56 entries, GDAX to Coinmam\n",
      "Data columns (total 8 columns):\n",
      "Pay in         56 non-null int64\n",
      "Pay out        48 non-null float64\n",
      "Transaction    56 non-null float64\n",
      "bid            16 non-null float64\n",
      "ask            16 non-null float64\n",
      "100EUR->ETH    16 non-null float64\n",
      "Out Ex         56 non-null object\n",
      "ETH->EUR       4 non-null float64\n",
      "dtypes: float64(6), int64(1), object(1)\n",
      "memory usage: 3.9+ KB\n",
      "None\n"
     ]
    }
   ],
   "source": [
    "df_copy = df.copy()\n",
    "for ex in df.index:\n",
    "    temp_df = df_copy.copy()\n",
    "    temp_df['Out Ex'] = ex\n",
    "    print(temp_df.loc[ex, '100EUR->ETH'])\n",
    "    print('-----')\n",
    "    print(temp_df)\n",
    "    temp_df['ETH->EUR'] = ((temp_df.loc[ex, '100EUR->ETH'] * (1-temp_df['Transaction'])) * (temp_df['bid'] +0.01))-100\n",
    "    df = df.append(temp_df)\n",
    "print(df.info())"
   ]
  },
  {
   "cell_type": "code",
   "execution_count": 8,
   "metadata": {},
   "outputs": [],
   "source": [
    "df_pivot = df.pivot(columns='Out Ex', values='ETH->EUR')\n"
   ]
  },
  {
   "cell_type": "code",
   "execution_count": 9,
   "metadata": {},
   "outputs": [
    {
     "data": {
      "image/png": "[encoded data removed]",
      "text/plain": [
       "<matplotlib.figure.Figure at 0x14258559048>"
      ]
     },
     "metadata": {},
     "output_type": "display_data"
    }
   ],
   "source": [
    "import matplotlib.pyplot as plt\n",
    "import seaborn as sns\n",
    "\n",
    "sns.heatmap(df_pivot)\n",
    "plt.show()"
   ]
  },
  {
   "cell_type": "code",
   "execution_count": null,
   "metadata": {},
   "outputs": [],
   "source": [
    "import pandas as pd\n",
    "import numpy as np\n",
    "import matplotlib.pyplot as plt\n",
    "import seaborn as sns\n",
    "\n",
    "class opp_finder():\n",
    "    def __init__(self):\n",
    "        #import data from exchanges and copy \n",
    "        self.exs = pd.read_csv('exchanges.csv', index_col=0)\n",
    "        df = self.exs[['Pay in', 'Pay out', 'Transaction']]\n",
    "        df['bid'] = pd.to_numeric(self.exs.bid, errors='coerce')\n",
    "        df['ask'] = pd.to_numeric(self.exs.ask, errors='coerce')\n",
    "        \n",
    "        #Calculate ETH from 100 EUR\n",
    "        df['100EUR->ETH'] = ((100 - df['Pay in'] ) * (1-df['Transaction'])) / (df['ask']-0.01)\n",
    "        df['Out Ex'] = 'N/A'\n",
    "        df['ETH->EUR'] = np.nan\n",
    "        \n",
    "        #Calculate ETH for every possible transaction\n",
    "        df_copy = df.copy()\n",
    "        for ex in df.index:\n",
    "            temp_df = df_copy.copy()\n",
    "            temp_df['Out Ex'] = ex\n",
    "            print(temp_df.loc[ex, '100EUR->ETH'])\n",
    "            print('-----')\n",
    "            print(temp_df)\n",
    "            temp_df['ETH->EUR'] = ((temp_df.loc[ex, '100EUR->ETH'] * (1-temp_df['Transaction'])) * (temp_df['bid'] +0.01))-100\n",
    "            df = df.append(temp_df)\n",
    "            \n",
    "        #Pivot results\n",
    "        self.profits = df.pivot(columns='Out Ex', values='ETH->EUR')\n",
    "        \n",
    "    def plot_profits(self):\n",
    "        sns.heatmap(df_pivot)\n",
    "        plt.show()"
   ]
  }
 ],
 "metadata": {
  "kernelspec": {
   "display_name": "Python 3",
   "language": "python",
   "name": "python3"
  },
  "language_info": {
   "codemirror_mode": {
    "name": "ipython",
    "version": 3
   },
   "file_extension": ".py",
   "mimetype": "text/x-python",
   "name": "python",
   "nbconvert_exporter": "python",
   "pygments_lexer": "ipython3",
   "version": "3.5.4"
  }
 },
 "nbformat": 4,
 "nbformat_minor": 2
}
